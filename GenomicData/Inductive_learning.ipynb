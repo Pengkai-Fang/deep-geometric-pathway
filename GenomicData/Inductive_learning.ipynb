{
 "cells": [
  {
   "cell_type": "code",
   "execution_count": 1,
   "metadata": {},
   "outputs": [],
   "source": [
    "import os.path as osp\n",
    "\n",
    "import argparse\n",
    "import torch\n",
    "import torch.nn.functional as F\n",
    "from torch_geometric.datasets import Planetoid\n",
    "from torch_geometric.data import NeighborSampler\n",
    "from torch_geometric.nn import GATConv\n",
    "import utils.hops_sampler as hops_sampler\n",
    "import utils.cancer_data as pathway"
   ]
  },
  {
   "cell_type": "code",
   "execution_count": 3,
   "metadata": {},
   "outputs": [],
   "source": [
    "# Load both data and operate by class pathway\n",
    "pathwayPATH = './Gene_DATA/sourcePathway.txt'\n",
    "cancerPATH = './BreastCancer/Data_RNASeq2.mat'\n",
    "\n",
    "# load the overall pathway and cancer data in object\n",
    "data = pathway(pthwayPATH=pathwayPATH, cancerPATH=cancerPATH)\n"
   ]
  },
  {
   "cell_type": "code",
   "execution_count": 6,
   "metadata": {},
   "outputs": [],
   "source": [
    "# sample the protein for the regression problem \n",
    "hops_samples_obj = hops_sampler(pathway = data, \n",
    "                                batch_size = 1, \n",
    "                                num_hops = 2)"
   ]
  },
  {
   "cell_type": "code",
   "execution_count": 7,
   "metadata": {
    "collapsed": true,
    "jupyter": {
     "outputs_hidden": true
    }
   },
   "outputs": [
    {
     "data": {
      "text/plain": [
       "[Data(dataflow=[2], property=DataFlow(1 <- 6 <- 77), size_list=[3]),\n",
       " Data(dataflow=[2], property=DataFlow(1 <- 6 <- 35), size_list=[3]),\n",
       " Data(dataflow=[2], property=DataFlow(1 <- 8 <- 60), size_list=[3]),\n",
       " Data(dataflow=[2], property=DataFlow(1 <- 49 <- 399), size_list=[3]),\n",
       " Data(dataflow=[2], property=DataFlow(1 <- 6 <- 25), size_list=[3]),\n",
       " Data(dataflow=[2], property=DataFlow(1 <- 6 <- 7), size_list=[3]),\n",
       " Data(dataflow=[2], property=DataFlow(1 <- 7 <- 24), size_list=[3]),\n",
       " Data(dataflow=[2], property=DataFlow(1 <- 6 <- 34), size_list=[3]),\n",
       " Data(dataflow=[2], property=DataFlow(1 <- 16 <- 160), size_list=[3]),\n",
       " Data(dataflow=[2], property=DataFlow(1 <- 6 <- 37), size_list=[3]),\n",
       " Data(dataflow=[2], property=DataFlow(1 <- 6 <- 18), size_list=[3]),\n",
       " Data(dataflow=[2], property=DataFlow(1 <- 9 <- 145), size_list=[3]),\n",
       " Data(dataflow=[2], property=DataFlow(1 <- 15 <- 163), size_list=[3]),\n",
       " Data(dataflow=[2], property=DataFlow(1 <- 9 <- 86), size_list=[3]),\n",
       " Data(dataflow=[2], property=DataFlow(1 <- 22 <- 239), size_list=[3]),\n",
       " Data(dataflow=[2], property=DataFlow(1 <- 11 <- 69), size_list=[3]),\n",
       " Data(dataflow=[2], property=DataFlow(1 <- 6 <- 91), size_list=[3]),\n",
       " Data(dataflow=[2], property=DataFlow(1 <- 7 <- 27), size_list=[3]),\n",
       " Data(dataflow=[2], property=DataFlow(1 <- 16 <- 87), size_list=[3]),\n",
       " Data(dataflow=[2], property=DataFlow(1 <- 10 <- 85), size_list=[3]),\n",
       " Data(dataflow=[2], property=DataFlow(1 <- 7 <- 19), size_list=[3]),\n",
       " Data(dataflow=[2], property=DataFlow(1 <- 9 <- 23), size_list=[3]),\n",
       " Data(dataflow=[2], property=DataFlow(1 <- 15 <- 79), size_list=[3]),\n",
       " Data(dataflow=[2], property=DataFlow(1 <- 9 <- 69), size_list=[3]),\n",
       " Data(dataflow=[2], property=DataFlow(1 <- 15 <- 89), size_list=[3]),\n",
       " Data(dataflow=[2], property=DataFlow(1 <- 8 <- 101), size_list=[3]),\n",
       " Data(dataflow=[2], property=DataFlow(1 <- 10 <- 90), size_list=[3]),\n",
       " Data(dataflow=[2], property=DataFlow(1 <- 11 <- 30), size_list=[3]),\n",
       " Data(dataflow=[2], property=DataFlow(1 <- 10 <- 66), size_list=[3]),\n",
       " Data(dataflow=[2], property=DataFlow(1 <- 33 <- 324), size_list=[3]),\n",
       " Data(dataflow=[2], property=DataFlow(1 <- 8 <- 50), size_list=[3]),\n",
       " Data(dataflow=[2], property=DataFlow(1 <- 11 <- 55), size_list=[3]),\n",
       " Data(dataflow=[2], property=DataFlow(1 <- 7 <- 27), size_list=[3]),\n",
       " Data(dataflow=[2], property=DataFlow(1 <- 7 <- 29), size_list=[3]),\n",
       " Data(dataflow=[2], property=DataFlow(1 <- 10 <- 72), size_list=[3]),\n",
       " Data(dataflow=[2], property=DataFlow(1 <- 50 <- 265), size_list=[3]),\n",
       " Data(dataflow=[2], property=DataFlow(1 <- 22 <- 217), size_list=[3]),\n",
       " Data(dataflow=[2], property=DataFlow(1 <- 13 <- 111), size_list=[3]),\n",
       " Data(dataflow=[2], property=DataFlow(1 <- 7 <- 40), size_list=[3]),\n",
       " Data(dataflow=[2], property=DataFlow(1 <- 8 <- 49), size_list=[3]),\n",
       " Data(dataflow=[2], property=DataFlow(1 <- 7 <- 87), size_list=[3]),\n",
       " Data(dataflow=[2], property=DataFlow(1 <- 7 <- 132), size_list=[3]),\n",
       " Data(dataflow=[2], property=DataFlow(1 <- 13 <- 50), size_list=[3]),\n",
       " Data(dataflow=[2], property=DataFlow(1 <- 6 <- 39), size_list=[3]),\n",
       " Data(dataflow=[2], property=DataFlow(1 <- 37 <- 392), size_list=[3]),\n",
       " Data(dataflow=[2], property=DataFlow(1 <- 9 <- 59), size_list=[3]),\n",
       " Data(dataflow=[2], property=DataFlow(1 <- 6 <- 30), size_list=[3]),\n",
       " Data(dataflow=[2], property=DataFlow(1 <- 10 <- 38), size_list=[3]),\n",
       " Data(dataflow=[2], property=DataFlow(1 <- 6 <- 116), size_list=[3]),\n",
       " Data(dataflow=[2], property=DataFlow(1 <- 18 <- 98), size_list=[3]),\n",
       " Data(dataflow=[2], property=DataFlow(1 <- 9 <- 82), size_list=[3]),\n",
       " Data(dataflow=[2], property=DataFlow(1 <- 6 <- 33), size_list=[3]),\n",
       " Data(dataflow=[2], property=DataFlow(1 <- 6 <- 60), size_list=[3]),\n",
       " Data(dataflow=[2], property=DataFlow(1 <- 7 <- 10), size_list=[3]),\n",
       " Data(dataflow=[2], property=DataFlow(1 <- 17 <- 72), size_list=[3]),\n",
       " Data(dataflow=[2], property=DataFlow(1 <- 8 <- 35), size_list=[3]),\n",
       " Data(dataflow=[2], property=DataFlow(1 <- 10 <- 138), size_list=[3]),\n",
       " Data(dataflow=[2], property=DataFlow(1 <- 7 <- 52), size_list=[3]),\n",
       " Data(dataflow=[2], property=DataFlow(1 <- 8 <- 109), size_list=[3]),\n",
       " Data(dataflow=[2], property=DataFlow(1 <- 8 <- 29), size_list=[3]),\n",
       " Data(dataflow=[2], property=DataFlow(1 <- 7 <- 59), size_list=[3]),\n",
       " Data(dataflow=[2], property=DataFlow(1 <- 8 <- 16), size_list=[3]),\n",
       " Data(dataflow=[2], property=DataFlow(1 <- 6 <- 11), size_list=[3]),\n",
       " Data(dataflow=[2], property=DataFlow(1 <- 14 <- 68), size_list=[3]),\n",
       " Data(dataflow=[2], property=DataFlow(1 <- 6 <- 36), size_list=[3]),\n",
       " Data(dataflow=[2], property=DataFlow(1 <- 6 <- 12), size_list=[3]),\n",
       " Data(dataflow=[2], property=DataFlow(1 <- 6 <- 39), size_list=[3]),\n",
       " Data(dataflow=[2], property=DataFlow(1 <- 18 <- 215), size_list=[3]),\n",
       " Data(dataflow=[2], property=DataFlow(1 <- 7 <- 81), size_list=[3]),\n",
       " Data(dataflow=[2], property=DataFlow(1 <- 12 <- 83), size_list=[3]),\n",
       " Data(dataflow=[2], property=DataFlow(1 <- 8 <- 89), size_list=[3]),\n",
       " Data(dataflow=[2], property=DataFlow(1 <- 12 <- 92), size_list=[3]),\n",
       " Data(dataflow=[2], property=DataFlow(1 <- 15 <- 104), size_list=[3]),\n",
       " Data(dataflow=[2], property=DataFlow(1 <- 6 <- 15), size_list=[3]),\n",
       " Data(dataflow=[2], property=DataFlow(1 <- 7 <- 24), size_list=[3]),\n",
       " Data(dataflow=[2], property=DataFlow(1 <- 7 <- 11), size_list=[3]),\n",
       " Data(dataflow=[2], property=DataFlow(1 <- 8 <- 11), size_list=[3]),\n",
       " Data(dataflow=[2], property=DataFlow(1 <- 8 <- 17), size_list=[3]),\n",
       " Data(dataflow=[2], property=DataFlow(1 <- 8 <- 25), size_list=[3]),\n",
       " Data(dataflow=[2], property=DataFlow(1 <- 10 <- 96), size_list=[3]),\n",
       " Data(dataflow=[2], property=DataFlow(1 <- 11 <- 49), size_list=[3]),\n",
       " Data(dataflow=[2], property=DataFlow(1 <- 10 <- 4), size_list=[3]),\n",
       " Data(dataflow=[2], property=DataFlow(1 <- 30 <- 202), size_list=[3]),\n",
       " Data(dataflow=[2], property=DataFlow(1 <- 6 <- 55), size_list=[3]),\n",
       " Data(dataflow=[2], property=DataFlow(1 <- 31 <- 199), size_list=[3]),\n",
       " Data(dataflow=[2], property=DataFlow(1 <- 6 <- 93), size_list=[3]),\n",
       " Data(dataflow=[2], property=DataFlow(1 <- 6 <- 25), size_list=[3]),\n",
       " Data(dataflow=[2], property=DataFlow(1 <- 10 <- 134), size_list=[3]),\n",
       " Data(dataflow=[2], property=DataFlow(1 <- 6 <- 14), size_list=[3]),\n",
       " Data(dataflow=[2], property=DataFlow(1 <- 8 <- 45), size_list=[3]),\n",
       " Data(dataflow=[2], property=DataFlow(1 <- 6 <- 56), size_list=[3]),\n",
       " Data(dataflow=[2], property=DataFlow(1 <- 8 <- 52), size_list=[3]),\n",
       " Data(dataflow=[2], property=DataFlow(1 <- 17 <- 75), size_list=[3]),\n",
       " Data(dataflow=[2], property=DataFlow(1 <- 9 <- 40), size_list=[3]),\n",
       " Data(dataflow=[2], property=DataFlow(1 <- 17 <- 66), size_list=[3]),\n",
       " Data(dataflow=[2], property=DataFlow(1 <- 8 <- 33), size_list=[3]),\n",
       " Data(dataflow=[2], property=DataFlow(1 <- 10 <- 71), size_list=[3]),\n",
       " Data(dataflow=[2], property=DataFlow(1 <- 16 <- 102), size_list=[3]),\n",
       " Data(dataflow=[2], property=DataFlow(1 <- 8 <- 16), size_list=[3]),\n",
       " Data(dataflow=[2], property=DataFlow(1 <- 14 <- 35), size_list=[3]),\n",
       " Data(dataflow=[2], property=DataFlow(1 <- 6 <- 49), size_list=[3]),\n",
       " Data(dataflow=[2], property=DataFlow(1 <- 9 <- 70), size_list=[3]),\n",
       " Data(dataflow=[2], property=DataFlow(1 <- 6 <- 32), size_list=[3]),\n",
       " Data(dataflow=[2], property=DataFlow(1 <- 14 <- 87), size_list=[3]),\n",
       " Data(dataflow=[2], property=DataFlow(1 <- 30 <- 225), size_list=[3]),\n",
       " Data(dataflow=[2], property=DataFlow(1 <- 79 <- 220), size_list=[3]),\n",
       " Data(dataflow=[2], property=DataFlow(1 <- 7 <- 40), size_list=[3]),\n",
       " Data(dataflow=[2], property=DataFlow(1 <- 12 <- 53), size_list=[3]),\n",
       " Data(dataflow=[2], property=DataFlow(1 <- 22 <- 232), size_list=[3]),\n",
       " Data(dataflow=[2], property=DataFlow(1 <- 8 <- 75), size_list=[3]),\n",
       " Data(dataflow=[2], property=DataFlow(1 <- 17 <- 117), size_list=[3]),\n",
       " Data(dataflow=[2], property=DataFlow(1 <- 20 <- 175), size_list=[3]),\n",
       " Data(dataflow=[2], property=DataFlow(1 <- 23 <- 112), size_list=[3]),\n",
       " Data(dataflow=[2], property=DataFlow(1 <- 12 <- 85), size_list=[3]),\n",
       " Data(dataflow=[2], property=DataFlow(1 <- 21 <- 247), size_list=[3]),\n",
       " Data(dataflow=[2], property=DataFlow(1 <- 8 <- 54), size_list=[3]),\n",
       " Data(dataflow=[2], property=DataFlow(1 <- 10 <- 73), size_list=[3]),\n",
       " Data(dataflow=[2], property=DataFlow(1 <- 13 <- 118), size_list=[3]),\n",
       " Data(dataflow=[2], property=DataFlow(1 <- 25 <- 190), size_list=[3]),\n",
       " Data(dataflow=[2], property=DataFlow(1 <- 12 <- 99), size_list=[3]),\n",
       " Data(dataflow=[2], property=DataFlow(1 <- 37 <- 242), size_list=[3]),\n",
       " Data(dataflow=[2], property=DataFlow(1 <- 7 <- 68), size_list=[3]),\n",
       " Data(dataflow=[2], property=DataFlow(1 <- 8 <- 68), size_list=[3]),\n",
       " Data(dataflow=[2], property=DataFlow(1 <- 30 <- 203), size_list=[3]),\n",
       " Data(dataflow=[2], property=DataFlow(1 <- 6 <- 44), size_list=[3]),\n",
       " Data(dataflow=[2], property=DataFlow(1 <- 6 <- 24), size_list=[3]),\n",
       " Data(dataflow=[2], property=DataFlow(1 <- 13 <- 48), size_list=[3]),\n",
       " Data(dataflow=[2], property=DataFlow(1 <- 11 <- 87), size_list=[3]),\n",
       " Data(dataflow=[2], property=DataFlow(1 <- 10 <- 56), size_list=[3]),\n",
       " Data(dataflow=[2], property=DataFlow(1 <- 9 <- 45), size_list=[3]),\n",
       " Data(dataflow=[2], property=DataFlow(1 <- 29 <- 181), size_list=[3]),\n",
       " Data(dataflow=[2], property=DataFlow(1 <- 8 <- 26), size_list=[3]),\n",
       " Data(dataflow=[2], property=DataFlow(1 <- 15 <- 88), size_list=[3]),\n",
       " Data(dataflow=[2], property=DataFlow(1 <- 9 <- 96), size_list=[3]),\n",
       " Data(dataflow=[2], property=DataFlow(1 <- 8 <- 66), size_list=[3]),\n",
       " Data(dataflow=[2], property=DataFlow(1 <- 7 <- 92), size_list=[3]),\n",
       " Data(dataflow=[2], property=DataFlow(1 <- 12 <- 80), size_list=[3]),\n",
       " Data(dataflow=[2], property=DataFlow(1 <- 12 <- 234), size_list=[3]),\n",
       " Data(dataflow=[2], property=DataFlow(1 <- 7 <- 201), size_list=[3]),\n",
       " Data(dataflow=[2], property=DataFlow(1 <- 8 <- 24), size_list=[3]),\n",
       " Data(dataflow=[2], property=DataFlow(1 <- 6 <- 109), size_list=[3]),\n",
       " Data(dataflow=[2], property=DataFlow(1 <- 6 <- 136), size_list=[3]),\n",
       " Data(dataflow=[2], property=DataFlow(1 <- 7 <- 72), size_list=[3]),\n",
       " Data(dataflow=[2], property=DataFlow(1 <- 19 <- 207), size_list=[3]),\n",
       " Data(dataflow=[2], property=DataFlow(1 <- 13 <- 87), size_list=[3]),\n",
       " Data(dataflow=[2], property=DataFlow(1 <- 9 <- 29), size_list=[3]),\n",
       " Data(dataflow=[2], property=DataFlow(1 <- 6 <- 132), size_list=[3]),\n",
       " Data(dataflow=[2], property=DataFlow(1 <- 43 <- 170), size_list=[3]),\n",
       " Data(dataflow=[2], property=DataFlow(1 <- 6 <- 74), size_list=[3]),\n",
       " Data(dataflow=[2], property=DataFlow(1 <- 8 <- 24), size_list=[3]),\n",
       " Data(dataflow=[2], property=DataFlow(1 <- 14 <- 47), size_list=[3]),\n",
       " Data(dataflow=[2], property=DataFlow(1 <- 8 <- 87), size_list=[3]),\n",
       " Data(dataflow=[2], property=DataFlow(1 <- 7 <- 31), size_list=[3]),\n",
       " Data(dataflow=[2], property=DataFlow(1 <- 8 <- 43), size_list=[3]),\n",
       " Data(dataflow=[2], property=DataFlow(1 <- 7 <- 164), size_list=[3]),\n",
       " Data(dataflow=[2], property=DataFlow(1 <- 6 <- 5), size_list=[3]),\n",
       " Data(dataflow=[2], property=DataFlow(1 <- 34 <- 353), size_list=[3]),\n",
       " Data(dataflow=[2], property=DataFlow(1 <- 9 <- 37), size_list=[3]),\n",
       " Data(dataflow=[2], property=DataFlow(1 <- 15 <- 84), size_list=[3]),\n",
       " Data(dataflow=[2], property=DataFlow(1 <- 13 <- 81), size_list=[3]),\n",
       " Data(dataflow=[2], property=DataFlow(1 <- 7 <- 30), size_list=[3]),\n",
       " Data(dataflow=[2], property=DataFlow(1 <- 8 <- 75), size_list=[3]),\n",
       " Data(dataflow=[2], property=DataFlow(1 <- 19 <- 214), size_list=[3]),\n",
       " Data(dataflow=[2], property=DataFlow(1 <- 19 <- 237), size_list=[3]),\n",
       " Data(dataflow=[2], property=DataFlow(1 <- 6 <- 42), size_list=[3]),\n",
       " Data(dataflow=[2], property=DataFlow(1 <- 13 <- 147), size_list=[3]),\n",
       " Data(dataflow=[2], property=DataFlow(1 <- 7 <- 32), size_list=[3]),\n",
       " Data(dataflow=[2], property=DataFlow(1 <- 16 <- 141), size_list=[3]),\n",
       " Data(dataflow=[2], property=DataFlow(1 <- 7 <- 84), size_list=[3]),\n",
       " Data(dataflow=[2], property=DataFlow(1 <- 9 <- 137), size_list=[3]),\n",
       " Data(dataflow=[2], property=DataFlow(1 <- 25 <- 287), size_list=[3]),\n",
       " Data(dataflow=[2], property=DataFlow(1 <- 6 <- 30), size_list=[3]),\n",
       " Data(dataflow=[2], property=DataFlow(1 <- 6 <- 33), size_list=[3]),\n",
       " Data(dataflow=[2], property=DataFlow(1 <- 11 <- 85), size_list=[3]),\n",
       " Data(dataflow=[2], property=DataFlow(1 <- 6 <- 81), size_list=[3]),\n",
       " Data(dataflow=[2], property=DataFlow(1 <- 7 <- 38), size_list=[3]),\n",
       " Data(dataflow=[2], property=DataFlow(1 <- 10 <- 101), size_list=[3]),\n",
       " Data(dataflow=[2], property=DataFlow(1 <- 9 <- 80), size_list=[3]),\n",
       " Data(dataflow=[2], property=DataFlow(1 <- 17 <- 54), size_list=[3]),\n",
       " Data(dataflow=[2], property=DataFlow(1 <- 10 <- 45), size_list=[3]),\n",
       " Data(dataflow=[2], property=DataFlow(1 <- 8 <- 94), size_list=[3]),\n",
       " Data(dataflow=[2], property=DataFlow(1 <- 9 <- 234), size_list=[3]),\n",
       " Data(dataflow=[2], property=DataFlow(1 <- 6 <- 21), size_list=[3]),\n",
       " Data(dataflow=[2], property=DataFlow(1 <- 25 <- 231), size_list=[3]),\n",
       " Data(dataflow=[2], property=DataFlow(1 <- 19 <- 148), size_list=[3]),\n",
       " Data(dataflow=[2], property=DataFlow(1 <- 16 <- 187), size_list=[3]),\n",
       " Data(dataflow=[2], property=DataFlow(1 <- 18 <- 109), size_list=[3]),\n",
       " Data(dataflow=[2], property=DataFlow(1 <- 6 <- 43), size_list=[3]),\n",
       " Data(dataflow=[2], property=DataFlow(1 <- 6 <- 39), size_list=[3]),\n",
       " Data(dataflow=[2], property=DataFlow(1 <- 6 <- 39), size_list=[3]),\n",
       " Data(dataflow=[2], property=DataFlow(1 <- 29 <- 217), size_list=[3]),\n",
       " Data(dataflow=[2], property=DataFlow(1 <- 11 <- 30), size_list=[3]),\n",
       " Data(dataflow=[2], property=DataFlow(1 <- 6 <- 36), size_list=[3]),\n",
       " Data(dataflow=[2], property=DataFlow(1 <- 16 <- 84), size_list=[3]),\n",
       " Data(dataflow=[2], property=DataFlow(1 <- 42 <- 251), size_list=[3]),\n",
       " Data(dataflow=[2], property=DataFlow(1 <- 7 <- 55), size_list=[3]),\n",
       " Data(dataflow=[2], property=DataFlow(1 <- 12 <- 48), size_list=[3]),\n",
       " Data(dataflow=[2], property=DataFlow(1 <- 6 <- 35), size_list=[3]),\n",
       " Data(dataflow=[2], property=DataFlow(1 <- 11 <- 181), size_list=[3]),\n",
       " Data(dataflow=[2], property=DataFlow(1 <- 8 <- 200), size_list=[3]),\n",
       " Data(dataflow=[2], property=DataFlow(1 <- 8 <- 33), size_list=[3])]"
      ]
     },
     "execution_count": 7,
     "metadata": {},
     "output_type": "execute_result"
    }
   ],
   "source": [
    "hops_samples_obj.samples"
   ]
  },
  {
   "cell_type": "code",
   "execution_count": 9,
   "metadata": {},
   "outputs": [
    {
     "data": {
      "text/plain": [
       "[]"
      ]
     },
     "execution_count": 9,
     "metadata": {},
     "output_type": "execute_result"
    }
   ],
   "source": [
    "hops_samples_obj.hops_samples"
   ]
  },
  {
   "cell_type": "code",
   "execution_count": 11,
   "metadata": {},
   "outputs": [],
   "source": [
    "# download and load the testdataset\n",
    "path = osp.join('..', 'data', 'Cora')\n",
    "dataset = Planetoid(path, 'Cora')"
   ]
  },
  {
   "cell_type": "code",
   "execution_count": 19,
   "metadata": {},
   "outputs": [],
   "source": [
    "data = dataset[0]\n",
    "loader = NeighborSampler(data, size=[25, 10], num_hops=2, batch_size=5,\n",
    "                         shuffle=True, add_self_loops=True)"
   ]
  },
  {
   "cell_type": "code",
   "execution_count": 20,
   "metadata": {
    "collapsed": true,
    "jupyter": {
     "outputs_hidden": true
    }
   },
   "outputs": [
    {
     "name": "stdout",
     "output_type": "stream",
     "text": [
      "DataFlow(5<-21<-79)\n",
      "DataFlow(5<-32<-102)\n",
      "DataFlow(5<-21<-43)\n",
      "DataFlow(5<-20<-53)\n",
      "DataFlow(5<-30<-118)\n",
      "DataFlow(5<-19<-48)\n",
      "DataFlow(5<-27<-79)\n",
      "DataFlow(5<-30<-98)\n",
      "DataFlow(5<-19<-64)\n",
      "DataFlow(5<-40<-142)\n",
      "DataFlow(5<-21<-74)\n",
      "DataFlow(5<-19<-83)\n",
      "DataFlow(5<-15<-34)\n",
      "DataFlow(5<-29<-123)\n",
      "DataFlow(5<-34<-119)\n",
      "DataFlow(5<-25<-70)\n",
      "DataFlow(5<-29<-100)\n",
      "DataFlow(5<-41<-170)\n",
      "DataFlow(5<-22<-51)\n",
      "DataFlow(5<-34<-126)\n",
      "DataFlow(5<-23<-91)\n",
      "DataFlow(5<-63<-234)\n",
      "DataFlow(5<-21<-53)\n",
      "DataFlow(5<-20<-70)\n",
      "DataFlow(5<-26<-115)\n",
      "DataFlow(5<-29<-107)\n",
      "DataFlow(5<-20<-51)\n",
      "DataFlow(5<-26<-109)\n"
     ]
    }
   ],
   "source": [
    "for subset in loader(data.train_mask):\n",
    "    print(subset)"
   ]
  },
  {
   "cell_type": "code",
   "execution_count": 21,
   "metadata": {},
   "outputs": [],
   "source": [
    "block = subset[0]"
   ]
  },
  {
   "cell_type": "code",
   "execution_count": 33,
   "metadata": {},
   "outputs": [
    {
     "data": {
      "text/plain": [
       "tensor([ 115,  314,  660, 1783, 1771,  542, 1924, 1602,  572,  417, 1008, 1925,\n",
       "        1546, 1152, 1856,  280,  544, 1923, 1535,  749, 1203, 1769, 1572, 2046,\n",
       "         108, 2078,  305, 2051,  485,    6, 2055, 2198,  452,  573, 1042, 1830,\n",
       "        1802, 1705, 1926,  153, 1791, 1118,  133, 1517,  138, 1787, 1013, 1583,\n",
       "        1922,  176,  236,  630, 1045,  454, 1775, 2169, 1125, 2419,  252, 1416,\n",
       "         834,  277,  683, 1768,  586,  131, 2168,  399, 2079,  109,  306, 2052,\n",
       "         656,   65, 2199,  993,  384, 2157, 1777, 1580, 1072, 2045, 1848, 1647,\n",
       "         456, 1835, 2209, 1224,  497,   74,  139, 1623,   94, 1504, 1142, 1551,\n",
       "        2153, 2347, 2159, 1547,  539, 1218, 2158, 2160,  603,  973, 2155,  876,\n",
       "         126])"
      ]
     },
     "execution_count": 33,
     "metadata": {},
     "output_type": "execute_result"
    }
   ],
   "source": [
    "block.n_id"
   ]
  },
  {
   "cell_type": "code",
   "execution_count": 17,
   "metadata": {},
   "outputs": [
    {
     "data": {
      "text/plain": [
       "<generator object NeighborSampler.__call__ at 0x110e19350>"
      ]
     },
     "execution_count": 17,
     "metadata": {},
     "output_type": "execute_result"
    }
   ],
   "source": [
    "loader(data.train_mask)"
   ]
  },
  {
   "cell_type": "code",
   "execution_count": 37,
   "metadata": {},
   "outputs": [],
   "source": [
    "block = subset[1]"
   ]
  },
  {
   "cell_type": "code",
   "execution_count": 38,
   "metadata": {},
   "outputs": [
    {
     "data": {
      "text/plain": [
       "Block(n_id=[26], res_n_id=[5], e_id=None, edge_index=[2, 26], size=[2])"
      ]
     },
     "execution_count": 38,
     "metadata": {},
     "output_type": "execute_result"
    }
   ],
   "source": [
    "block"
   ]
  },
  {
   "cell_type": "code",
   "execution_count": 39,
   "metadata": {},
   "outputs": [
    {
     "data": {
      "text/plain": [
       "tensor([[25, 16, 17, 19, 21,  2,  6, 18, 13, 23, 22, 24, 10,  8,  7, 15, 11,  4,\n",
       "          3, 20, 14,  5,  9,  1,  0, 12],\n",
       "        [ 0,  0,  0,  0,  0,  0,  1,  1,  1,  1,  1,  1,  1,  1,  1,  2,  3,  3,\n",
       "          3,  4,  4,  0,  1,  2,  3,  4]])"
      ]
     },
     "execution_count": 39,
     "metadata": {},
     "output_type": "execute_result"
    }
   ],
   "source": [
    "block.edge_index"
   ]
  },
  {
   "cell_type": "code",
   "execution_count": 35,
   "metadata": {},
   "outputs": [
    {
     "data": {
      "text/plain": [
       "'DataFlow(3 <- 2)'"
      ]
     },
     "execution_count": 35,
     "metadata": {},
     "output_type": "execute_result"
    }
   ],
   "source": [
    "(\"DataFlow({}\".format(\"{} <- \"*(1)) + \"{})\").format(*[len(obj) for obj in [[2,3,4],[2,3]]])"
   ]
  },
  {
   "cell_type": "code",
   "execution_count": 29,
   "metadata": {},
   "outputs": [
    {
     "ename": "IndexError",
     "evalue": "tuple index out of range",
     "output_type": "error",
     "traceback": [
      "\u001b[0;31m---------------------------------------------------------------------------\u001b[0m",
      "\u001b[0;31mIndexError\u001b[0m                                Traceback (most recent call last)",
      "\u001b[0;32m<ipython-input-29-3dbe810188b6>\u001b[0m in \u001b[0;36m<module>\u001b[0;34m\u001b[0m\n\u001b[0;32m----> 1\u001b[0;31m \u001b[0;34m[\u001b[0m\u001b[0mtemp\u001b[0m\u001b[0;34m.\u001b[0m\u001b[0mformat\u001b[0m\u001b[0;34m(\u001b[0m\u001b[0ma\u001b[0m\u001b[0;34m)\u001b[0m \u001b[0;32mfor\u001b[0m \u001b[0ma\u001b[0m \u001b[0;32min\u001b[0m \u001b[0;34m[\u001b[0m\u001b[0;36m2\u001b[0m\u001b[0;34m,\u001b[0m\u001b[0;36m3\u001b[0m\u001b[0;34m]\u001b[0m\u001b[0;34m]\u001b[0m\u001b[0;34m\u001b[0m\u001b[0;34m\u001b[0m\u001b[0m\n\u001b[0m",
      "\u001b[0;32m<ipython-input-29-3dbe810188b6>\u001b[0m in \u001b[0;36m<listcomp>\u001b[0;34m(.0)\u001b[0m\n\u001b[0;32m----> 1\u001b[0;31m \u001b[0;34m[\u001b[0m\u001b[0mtemp\u001b[0m\u001b[0;34m.\u001b[0m\u001b[0mformat\u001b[0m\u001b[0;34m(\u001b[0m\u001b[0ma\u001b[0m\u001b[0;34m)\u001b[0m \u001b[0;32mfor\u001b[0m \u001b[0ma\u001b[0m \u001b[0;32min\u001b[0m \u001b[0;34m[\u001b[0m\u001b[0;36m2\u001b[0m\u001b[0;34m,\u001b[0m\u001b[0;36m3\u001b[0m\u001b[0;34m]\u001b[0m\u001b[0;34m]\u001b[0m\u001b[0;34m\u001b[0m\u001b[0;34m\u001b[0m\u001b[0m\n\u001b[0m",
      "\u001b[0;31mIndexError\u001b[0m: tuple index out of range"
     ]
    }
   ],
   "source": [
    "temp.format(a) for a in [2,3]"
   ]
  },
  {
   "cell_type": "code",
   "execution_count": 18,
   "metadata": {},
   "outputs": [],
   "source": [
    "t = (len(obj) for obj in [[2,3,4],[2,3]])"
   ]
  },
  {
   "cell_type": "code",
   "execution_count": 23,
   "metadata": {},
   "outputs": [
    {
     "ename": "SyntaxError",
     "evalue": "invalid syntax (<ipython-input-23-bae49ad0f9b5>, line 1)",
     "output_type": "error",
     "traceback": [
      "\u001b[0;36m  File \u001b[0;32m\"<ipython-input-23-bae49ad0f9b5>\"\u001b[0;36m, line \u001b[0;32m1\u001b[0m\n\u001b[0;31m    b = lambda x: for obj in x len(x)\u001b[0m\n\u001b[0m                    ^\u001b[0m\n\u001b[0;31mSyntaxError\u001b[0m\u001b[0;31m:\u001b[0m invalid syntax\n"
     ]
    }
   ],
   "source": []
  },
  {
   "cell_type": "code",
   "execution_count": 22,
   "metadata": {},
   "outputs": [
    {
     "ename": "TypeError",
     "evalue": "<lambda>() takes 1 positional argument but 2 were given",
     "output_type": "error",
     "traceback": [
      "\u001b[0;31m---------------------------------------------------------------------------\u001b[0m",
      "\u001b[0;31mTypeError\u001b[0m                                 Traceback (most recent call last)",
      "\u001b[0;32m<ipython-input-22-76aff2bb7e50>\u001b[0m in \u001b[0;36m<module>\u001b[0;34m\u001b[0m\n\u001b[0;32m----> 1\u001b[0;31m \u001b[0mb\u001b[0m\u001b[0;34m(\u001b[0m\u001b[0;36m5\u001b[0m\u001b[0;34m,\u001b[0m\u001b[0;36m6\u001b[0m\u001b[0;34m)\u001b[0m\u001b[0;34m\u001b[0m\u001b[0;34m\u001b[0m\u001b[0m\n\u001b[0m",
      "\u001b[0;31mTypeError\u001b[0m: <lambda>() takes 1 positional argument but 2 were given"
     ]
    }
   ],
   "source": [
    "b(5,6)"
   ]
  },
  {
   "cell_type": "code",
   "execution_count": 5,
   "metadata": {},
   "outputs": [
    {
     "ename": "IndexError",
     "evalue": "tuple index out of range",
     "output_type": "error",
     "traceback": [
      "\u001b[0;31m---------------------------------------------------------------------------\u001b[0m",
      "\u001b[0;31mIndexError\u001b[0m                                Traceback (most recent call last)",
      "\u001b[0;32m<ipython-input-5-f8f61815b0c0>\u001b[0m in \u001b[0;36m<module>\u001b[0;34m\u001b[0m\n\u001b[0;32m----> 1\u001b[0;31m \u001b[0;34m(\u001b[0m\u001b[0;34m\"DataFlow({}\"\u001b[0m\u001b[0;34m.\u001b[0m\u001b[0mformat\u001b[0m\u001b[0;34m(\u001b[0m\u001b[0;34m\"{} <- \"\u001b[0m\u001b[0;34m*\u001b[0m\u001b[0;34m(\u001b[0m\u001b[0;36m2\u001b[0m\u001b[0;34m-\u001b[0m\u001b[0;36m1\u001b[0m\u001b[0;34m)\u001b[0m\u001b[0;34m)\u001b[0m \u001b[0;34m+\u001b[0m \u001b[0;34m\"{})\"\u001b[0m\u001b[0;34m)\u001b[0m\u001b[0;34m.\u001b[0m\u001b[0mformat\u001b[0m\u001b[0;34m(\u001b[0m\u001b[0;34m*\u001b[0m\u001b[0;34m[\u001b[0m\u001b[0;36m2\u001b[0m\u001b[0;34m]\u001b[0m\u001b[0;34m)\u001b[0m\u001b[0;34m\u001b[0m\u001b[0;34m\u001b[0m\u001b[0m\n\u001b[0m",
      "\u001b[0;31mIndexError\u001b[0m: tuple index out of range"
     ]
    }
   ],
   "source": [
    "(\"DataFlow({}\".format(\"{} <- \"*(2-1)) + \"{})\").format(*[2])"
   ]
  },
  {
   "cell_type": "code",
   "execution_count": 6,
   "metadata": {},
   "outputs": [],
   "source": [
    "t = ([]).append(5)"
   ]
  },
  {
   "cell_type": "code",
   "execution_count": 7,
   "metadata": {},
   "outputs": [],
   "source": [
    "t"
   ]
  },
  {
   "cell_type": "code",
   "execution_count": 8,
   "metadata": {},
   "outputs": [],
   "source": [
    "t = []"
   ]
  },
  {
   "cell_type": "code",
   "execution_count": 9,
   "metadata": {},
   "outputs": [],
   "source": [
    "t.append(5)"
   ]
  },
  {
   "cell_type": "code",
   "execution_count": 10,
   "metadata": {},
   "outputs": [
    {
     "data": {
      "text/plain": [
       "[5]"
      ]
     },
     "execution_count": 10,
     "metadata": {},
     "output_type": "execute_result"
    }
   ],
   "source": [
    "t"
   ]
  },
  {
   "cell_type": "code",
   "execution_count": 7,
   "metadata": {},
   "outputs": [
    {
     "data": {
      "text/plain": [
       "'DataFlow({} <- {} <- {} <- {})'"
      ]
     },
     "execution_count": 7,
     "metadata": {},
     "output_type": "execute_result"
    }
   ],
   "source": [
    "\"DataFlow({}\".format(\"{} <- \"*(3)) + \"{})\""
   ]
  },
  {
   "cell_type": "code",
   "execution_count": null,
   "metadata": {},
   "outputs": [],
   "source": []
  }
 ],
 "metadata": {
  "kernelspec": {
   "display_name": "Python 3",
   "language": "python",
   "name": "python3"
  },
  "language_info": {
   "codemirror_mode": {
    "name": "ipython",
    "version": 3
   },
   "file_extension": ".py",
   "mimetype": "text/x-python",
   "name": "python",
   "nbconvert_exporter": "python",
   "pygments_lexer": "ipython3",
   "version": "3.7.6"
  }
 },
 "nbformat": 4,
 "nbformat_minor": 4
}
