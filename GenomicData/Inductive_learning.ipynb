{
 "cells": [
  {
   "cell_type": "code",
   "execution_count": 1,
   "metadata": {
    "pycharm": {
     "is_executing": false
    }
   },
   "outputs": [],
   "source": [
    "import os.path as osp\n",
    "\n",
    "import argparse\n",
    "import utils.hops_sampler as hops_sampler\n",
    "import utils.cancer_data as cancer_data\n",
    "import torch.nn as nn\n",
    "from torch_geometric.nn import GATConv, SAGEConv\n",
    "import torch.nn.functional as F\n",
    "from torch_geometric.nn import Node2Vec\n",
    "import torch\n",
    "import numpy as np\n",
    "from torch import optim"
   ]
  },
  {
   "cell_type": "code",
   "execution_count": null,
   "metadata": {},
   "outputs": [],
   "source": [
    "# Load both data and operate by class pathway\n",
    "pathwayPATH = './Gene_DATA/sourcePathway.txt'\n",
    "cancerPATH = './BreastCancer/Data_RNASeq2.mat'\n",
    "\n",
    "# load the overall pathway and cancer data in object\n",
    "data = cancer_data.cancer_data(pthwayPATH=pathwayPATH, cancerPATH=cancerPATH)"
   ]
  },
  {
   "cell_type": "code",
   "execution_count": null,
   "metadata": {
    "pycharm": {
     "is_executing": false
    }
   },
   "outputs": [],
   "source": [
    "# sample the protein for the regression problem \n",
    "hops_samples_obj = hops_sampler.hops_sampler(pathway = data, \n",
    "                                batch_size = 1, \n",
    "                                num_hops = 2)"
   ]
  },
  {
   "cell_type": "code",
   "execution_count": null,
   "metadata": {},
   "outputs": [],
   "source": [
    "class GATNet(nn.Module):\n",
    "    def __init__(self, in_channels, out_channels):\n",
    "        super(GATNet, self).__init__()\n",
    "        self.conv1 = GATConv(in_channels, 8, heads=8, dropout=0.6, node_dim=1)\n",
    "        self.conv2 = GATConv(8 * 8, out_channels, heads=1, concat=True,\n",
    "                             dropout=0.6, node_dim=1)\n",
    "    \n",
    "    def forward(self, x, dataflow):\n",
    "        block = dataflow[-1]\n",
    "        xt = x[:,block.n_id,:]\n",
    "        xt = F.elu(\n",
    "            self.conv1((xt, x[:,block.res_n_id,:]), \n",
    "                       block.edge_index_ori,\n",
    "                       size=block.size))\n",
    "        \n",
    "#         x = F.dropout(x, p=0.6, training=self.training)\n",
    "#         block = data_flow[-2]\n",
    "#         x = F.elu(\n",
    "#             self.conv2((x, x[:,block.res_n_id,:]), \n",
    "#                        block.edge_index,\n",
    "#                       size=block.size))\n",
    "        xt = F.dropout(xt, p=0.6, training=self.training)\n",
    "        block = data_flow[-2]\n",
    "        xt = self.conv2((xt, x[:,block.res_n_id,:]), \n",
    "                       block.edge_index_ori,\n",
    "                      size=block.size)\n",
    "        return xt"
   ]
  },
  {
   "cell_type": "code",
   "execution_count": null,
   "metadata": {},
   "outputs": [],
   "source": [
    "num_nodes = 15867\n",
    "pre_embed = Node2Vec(num_nodes, embedding_dim=1, walk_length=20,\n",
    "                 context_size=10, walks_per_node=10)\n",
    "pre_embed.load_state_dict(torch.load('./model/node2vec-predembedding/node2vec_1dim.pth'))\n",
    "pre_embed.eval()\n",
    "pre_embed_x = pre_embed(torch.arange(num_nodes))"
   ]
  },
  {
   "cell_type": "code",
   "execution_count": null,
   "metadata": {},
   "outputs": [],
   "source": [
    "free_x_patient = data.activ_free.T[:,:,np.newaxis]\n",
    "cancer_x_patient = data.activ_cancer.T[:,:,np.newaxis]"
   ]
  },
  {
   "cell_type": "code",
   "execution_count": null,
   "metadata": {},
   "outputs": [],
   "source": [
    "genome_idxs = data.pthway_NameList[data.pthway_NameList['GenomeType'] == 'protein'].index"
   ]
  },
  {
   "cell_type": "code",
   "execution_count": null,
   "metadata": {},
   "outputs": [],
   "source": [
    "def scatter(num_nodes, genome, genome_idxs, embed):\n",
    "    num_patients, num_genome, num_feat = genome.shape\n",
    "    activ_x = np.zeros((num_patients, num_nodes, num_feat))\n",
    "    activ_x[:,genome_idxs,:] = genome\n",
    "    embed = embed.data.numpy()\n",
    "    embed = np.hstack([embed]*num_patients).T[:,:,np.newaxis]\n",
    "    activ_x = np.concatenate([activ_x, embed], axis=2)\n",
    "    return activ_x"
   ]
  },
  {
   "cell_type": "code",
   "execution_count": null,
   "metadata": {},
   "outputs": [],
   "source": [
    "free_x_patient_all = scatter(num_nodes, free_x_patient, genome_idxs, pre_embed_x)\n",
    "cancer_x_patient_all = scatter(num_nodes, cancer_x_patient, genome_idxs, pre_embed_x)"
   ]
  },
  {
   "cell_type": "code",
   "execution_count": null,
   "metadata": {},
   "outputs": [],
   "source": [
    "device = 'cpu'\n",
    "model = GATNet(2, 1).to(device)\n",
    "criterion = nn.MSELoss()\n",
    "optimizer = optim.Adam(model.parameters(), lr=0.01, weight_decay=5e-4)"
   ]
  },
  {
   "cell_type": "code",
   "execution_count": null,
   "metadata": {},
   "outputs": [],
   "source": [
    "def data_splits(samples, idx, train_ratio, test_ratio):\n",
    "    flow = samples[idx]\n",
    "    dataflow = flow.dataflow\n",
    "    target_index = dataflow[0].res_n_id\n",
    "    total_x = np.concatenate([free_x_patient_all, cancer_x_patient_all], axis=0)\n",
    "    total_target = total_x[:,target_index,0].reshape(-1)\n",
    "    flow.x = torch.from_numpy(total_x)\n",
    "    flow.y = torch.from_numpy(total_target)\n",
    "    \n",
    "    num = flow.y.shape[0]\n",
    "    row_index = torch.randperm(num)\n",
    "    \n",
    "    x = flow.x[row_index]\n",
    "    y = flow.y[row_index]\n",
    "    flow.train_x = x[:int(np.floor(num*train_ratio)),:,:]\n",
    "    flow.train_y = y[:int(np.floor(num*train_ratio))]\n",
    "    \n",
    "    flow.test_x = x[int(np.floor(num*train_ratio)):int(np.floor(num*test_ratio)),:,:]\n",
    "    flow.test_y = y[int(np.floor(num*train_ratio)):int(np.floor(num*test_ratio))]\n",
    "    \n",
    "    return flow"
   ]
  },
  {
   "cell_type": "code",
   "execution_count": null,
   "metadata": {},
   "outputs": [],
   "source": [
    "# acquire the data\n",
    "dataflow = data_splits(hops_samples_obj.samples, 0, 0.8, 0.2).to(device)"
   ]
  },
  {
   "cell_type": "code",
   "execution_count": null,
   "metadata": {},
   "outputs": [],
   "source": [
    "# start to training\n",
    "# Here, we only do test example on `ABL1` \n",
    "\n",
    "for epoch in range(1000):\n",
    "    model.train()\n",
    "    optimizer.zero_grad()\n",
    "    pred = model(dataflow.train_x.float().to(device), dataflow.dataflow)\n",
    "    loss = criterion(pred, dataflow.train_y.float().to(device))\n",
    "    loss.backward()\n",
    "    optimizer.step()\n",
    "    print(\"Epoch {} : Loss {}\".format(epoch+1, loss.item()))\n",
    "    "
   ]
  },
  {
   "cell_type": "code",
   "execution_count": null,
   "metadata": {},
   "outputs": [],
   "source": []
  }
 ],
 "metadata": {
  "kernelspec": {
   "name": "pycharm-293566a4",
   "language": "python",
   "display_name": "PyCharm (GenomicData)"
  },
  "language_info": {
   "codemirror_mode": {
    "name": "ipython",
    "version": 3
   },
   "file_extension": ".py",
   "mimetype": "text/x-python",
   "name": "python",
   "nbconvert_exporter": "python",
   "pygments_lexer": "ipython3",
   "version": "3.7.7"
  }
 },
 "nbformat": 4,
 "nbformat_minor": 4
}