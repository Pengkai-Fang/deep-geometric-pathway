{
 "cells": [
  {
   "cell_type": "code",
   "execution_count": 1,
   "metadata": {},
   "outputs": [],
   "source": [
    "import os.path as osp\n",
    "\n",
    "import argparse\n",
    "import torch\n",
    "import torch.nn.functional as F\n",
    "from torch_geometric.datasets import Planetoid\n",
    "from torch_geometric.data import NeighborSampler\n",
    "from torch_geometric.nn import GATConv\n",
    "import utils.hops_sampler as hops_sampler\n",
    "import utils.cancer_data as pathway"
   ]
  },
  {
   "cell_type": "code",
   "execution_count": 2,
   "metadata": {},
   "outputs": [],
   "source": [
    "# Load both data and operate by class pathway\n",
    "pathwayPATH = './Gene_DATA/sourcePathway.txt'\n",
    "cancerPATH = './BreastCancer/Data_RNASeq2.mat'\n",
    "\n",
    "# load the overall pathway and cancer data in object\n",
    "data = pathway(pthwayPATH=pathwayPATH, cancerPATH=cancerPATH)\n"
   ]
  },
  {
   "cell_type": "code",
   "execution_count": 4,
   "metadata": {},
   "outputs": [],
   "source": [
    "# sample the protein for the regression problem \n",
    "hops_samples_obj = hops_sampler(pathway = data, \n",
    "                                batch_size = 3, \n",
    "                                num_hops = 5)"
   ]
  },
  {
   "cell_type": "code",
   "execution_count": 5,
   "metadata": {},
   "outputs": [
    {
     "data": {
      "text/plain": [
       "[Data(dataflow=[5], property=DataFlow(3 <- 20 <- 172 <- 727 <- 2720), size_list=[6]),\n",
       " Data(dataflow=[5], property=DataFlow(3 <- 61 <- 431 <- 1946 <- 4938), size_list=[6]),\n",
       " Data(dataflow=[5], property=DataFlow(3 <- 29 <- 218 <- 1210 <- 4184), size_list=[6]),\n",
       " Data(dataflow=[5], property=DataFlow(3 <- 21 <- 200 <- 1151 <- 3873), size_list=[6]),\n",
       " Data(dataflow=[5], property=DataFlow(3 <- 46 <- 316 <- 1620 <- 4866), size_list=[6]),\n",
       " Data(dataflow=[5], property=DataFlow(3 <- 24 <- 187 <- 1276 <- 4455), size_list=[6]),\n",
       " Data(dataflow=[5], property=DataFlow(3 <- 33 <- 185 <- 794 <- 2711), size_list=[6]),\n",
       " Data(dataflow=[5], property=DataFlow(3 <- 33 <- 149 <- 554 <- 2271), size_list=[6]),\n",
       " Data(dataflow=[5], property=DataFlow(3 <- 33 <- 280 <- 1401 <- 4371), size_list=[6]),\n",
       " Data(dataflow=[5], property=DataFlow(3 <- 54 <- 414 <- 1877 <- 5157), size_list=[6]),\n",
       " Data(dataflow=[5], property=DataFlow(3 <- 26 <- 130 <- 716 <- 3130), size_list=[6]),\n",
       " Data(dataflow=[5], property=DataFlow(3 <- 67 <- 366 <- 1708 <- 4856), size_list=[6]),\n",
       " Data(dataflow=[5], property=DataFlow(3 <- 42 <- 331 <- 1803 <- 4937), size_list=[6]),\n",
       " Data(dataflow=[5], property=DataFlow(3 <- 22 <- 268 <- 1589 <- 4710), size_list=[6]),\n",
       " Data(dataflow=[5], property=DataFlow(3 <- 56 <- 481 <- 2296 <- 5737), size_list=[6]),\n",
       " Data(dataflow=[5], property=DataFlow(3 <- 25 <- 119 <- 690 <- 2880), size_list=[6]),\n",
       " Data(dataflow=[5], property=DataFlow(3 <- 33 <- 296 <- 1683 <- 4980), size_list=[6]),\n",
       " Data(dataflow=[5], property=DataFlow(3 <- 19 <- 103 <- 580 <- 2678), size_list=[6]),\n",
       " Data(dataflow=[5], property=DataFlow(3 <- 35 <- 245 <- 1311 <- 4318), size_list=[6]),\n",
       " Data(dataflow=[5], property=DataFlow(3 <- 23 <- 190 <- 1018 <- 3645), size_list=[6]),\n",
       " Data(dataflow=[5], property=DataFlow(3 <- 21 <- 86 <- 453 <- 2066), size_list=[6]),\n",
       " Data(dataflow=[5], property=DataFlow(3 <- 26 <- 106 <- 515 <- 2221), size_list=[6]),\n",
       " Data(dataflow=[5], property=DataFlow(3 <- 31 <- 335 <- 1710 <- 5116), size_list=[6]),\n",
       " Data(dataflow=[5], property=DataFlow(3 <- 32 <- 215 <- 1101 <- 3619), size_list=[6]),\n",
       " Data(dataflow=[5], property=DataFlow(3 <- 28 <- 139 <- 570 <- 2228), size_list=[6]),\n",
       " Data(dataflow=[5], property=DataFlow(3 <- 23 <- 39 <- 222 <- 1338), size_list=[6]),\n",
       " Data(dataflow=[5], property=DataFlow(3 <- 29 <- 170 <- 858 <- 2917), size_list=[6]),\n",
       " Data(dataflow=[5], property=DataFlow(3 <- 46 <- 261 <- 1106 <- 3610), size_list=[6]),\n",
       " Data(dataflow=[5], property=DataFlow(3 <- 43 <- 317 <- 1387 <- 4129), size_list=[6]),\n",
       " Data(dataflow=[5], property=DataFlow(3 <- 24 <- 193 <- 676 <- 2574), size_list=[6]),\n",
       " Data(dataflow=[5], property=DataFlow(3 <- 31 <- 183 <- 1073 <- 3702), size_list=[6]),\n",
       " Data(dataflow=[5], property=DataFlow(3 <- 34 <- 109 <- 586 <- 2618), size_list=[6]),\n",
       " Data(dataflow=[5], property=DataFlow(3 <- 34 <- 164 <- 921 <- 3574), size_list=[6]),\n",
       " Data(dataflow=[5], property=DataFlow(3 <- 29 <- 154 <- 1077 <- 3460), size_list=[6]),\n",
       " Data(dataflow=[5], property=DataFlow(3 <- 50 <- 344 <- 1591 <- 4740), size_list=[6]),\n",
       " Data(dataflow=[5], property=DataFlow(3 <- 98 <- 313 <- 1223 <- 3731), size_list=[6]),\n",
       " Data(dataflow=[5], property=DataFlow(3 <- 47 <- 328 <- 1653 <- 4665), size_list=[6]),\n",
       " Data(dataflow=[5], property=DataFlow(3 <- 55 <- 282 <- 1185 <- 3673), size_list=[6]),\n",
       " Data(dataflow=[5], property=DataFlow(3 <- 39 <- 349 <- 1417 <- 4246), size_list=[6]),\n",
       " Data(dataflow=[5], property=DataFlow(3 <- 50 <- 286 <- 1495 <- 4588), size_list=[6]),\n",
       " Data(dataflow=[5], property=DataFlow(3 <- 52 <- 378 <- 1832 <- 4776), size_list=[6]),\n",
       " Data(dataflow=[5], property=DataFlow(3 <- 42 <- 271 <- 1228 <- 4040), size_list=[6]),\n",
       " Data(dataflow=[5], property=DataFlow(3 <- 34 <- 159 <- 845 <- 3151), size_list=[6]),\n",
       " Data(dataflow=[5], property=DataFlow(3 <- 46 <- 240 <- 1244 <- 4200), size_list=[6]),\n",
       " Data(dataflow=[5], property=DataFlow(3 <- 32 <- 185 <- 1068 <- 3799), size_list=[6]),\n",
       " Data(dataflow=[5], property=DataFlow(3 <- 31 <- 357 <- 1708 <- 4709), size_list=[6]),\n",
       " Data(dataflow=[5], property=DataFlow(3 <- 21 <- 334 <- 1843 <- 5172), size_list=[6]),\n",
       " Data(dataflow=[5], property=DataFlow(3 <- 32 <- 415 <- 2036 <- 5299), size_list=[6]),\n",
       " Data(dataflow=[5], property=DataFlow(3 <- 28 <- 248 <- 957 <- 3205), size_list=[6]),\n",
       " Data(dataflow=[5], property=DataFlow(3 <- 57 <- 265 <- 1064 <- 3327), size_list=[6]),\n",
       " Data(dataflow=[5], property=DataFlow(3 <- 29 <- 165 <- 827 <- 2987), size_list=[6]),\n",
       " Data(dataflow=[5], property=DataFlow(3 <- 21 <- 212 <- 1299 <- 4034), size_list=[6]),\n",
       " Data(dataflow=[5], property=DataFlow(3 <- 58 <- 448 <- 1951 <- 4845), size_list=[6]),\n",
       " Data(dataflow=[5], property=DataFlow(3 <- 28 <- 186 <- 602 <- 1972), size_list=[6]),\n",
       " Data(dataflow=[5], property=DataFlow(3 <- 44 <- 463 <- 2371 <- 5390), size_list=[6]),\n",
       " Data(dataflow=[5], property=DataFlow(3 <- 36 <- 312 <- 1514 <- 4819), size_list=[6]),\n",
       " Data(dataflow=[5], property=DataFlow(3 <- 41 <- 483 <- 2149 <- 5197), size_list=[6]),\n",
       " Data(dataflow=[5], property=DataFlow(3 <- 23 <- 138 <- 657 <- 2882), size_list=[6]),\n",
       " Data(dataflow=[5], property=DataFlow(3 <- 23 <- 220 <- 1237 <- 4048), size_list=[6]),\n",
       " Data(dataflow=[5], property=DataFlow(3 <- 36 <- 179 <- 798 <- 2989), size_list=[6]),\n",
       " Data(dataflow=[5], property=DataFlow(3 <- 23 <- 324 <- 1887 <- 5087), size_list=[6]),\n",
       " Data(dataflow=[5], property=DataFlow(3 <- 60 <- 459 <- 1792 <- 4744), size_list=[6]),\n",
       " Data(dataflow=[5], property=DataFlow(3 <- 30 <- 191 <- 491 <- 1840), size_list=[6]),\n",
       " Data(dataflow=[5], property=DataFlow(3 <- 46 <- 286 <- 1311 <- 4294), size_list=[6]),\n",
       " Data(dataflow=[5], property=DataFlow(3 <- 64 <- 338 <- 1655 <- 4845), size_list=[6]),\n",
       " Data(dataflow=[5], property=DataFlow(3 <- 25 <- 117 <- 329 <- 1577), size_list=[6]),\n",
       " Data(dataflow=[5], property=DataFlow(3 <- 27 <- 311 <- 1458 <- 4056), size_list=[6])]"
      ]
     },
     "execution_count": 5,
     "metadata": {},
     "output_type": "execute_result"
    }
   ],
   "source": [
    "hops_samples_obj.samples"
   ]
  },
  {
   "cell_type": "code",
   "execution_count": 11,
   "metadata": {},
   "outputs": [],
   "source": [
    "# download and load the testdataset\n",
    "path = osp.join('..', 'data', 'Cora')\n",
    "dataset = Planetoid(path, 'Cora')"
   ]
  },
  {
   "cell_type": "code",
   "execution_count": 19,
   "metadata": {},
   "outputs": [],
   "source": [
    "data = dataset[0]\n",
    "loader = NeighborSampler(data, size=[25, 10], num_hops=2, batch_size=5,\n",
    "                         shuffle=True, add_self_loops=True)"
   ]
  },
  {
   "cell_type": "code",
   "execution_count": 20,
   "metadata": {
    "collapsed": true,
    "jupyter": {
     "outputs_hidden": true
    }
   },
   "outputs": [
    {
     "name": "stdout",
     "output_type": "stream",
     "text": [
      "DataFlow(5<-21<-79)\n",
      "DataFlow(5<-32<-102)\n",
      "DataFlow(5<-21<-43)\n",
      "DataFlow(5<-20<-53)\n",
      "DataFlow(5<-30<-118)\n",
      "DataFlow(5<-19<-48)\n",
      "DataFlow(5<-27<-79)\n",
      "DataFlow(5<-30<-98)\n",
      "DataFlow(5<-19<-64)\n",
      "DataFlow(5<-40<-142)\n",
      "DataFlow(5<-21<-74)\n",
      "DataFlow(5<-19<-83)\n",
      "DataFlow(5<-15<-34)\n",
      "DataFlow(5<-29<-123)\n",
      "DataFlow(5<-34<-119)\n",
      "DataFlow(5<-25<-70)\n",
      "DataFlow(5<-29<-100)\n",
      "DataFlow(5<-41<-170)\n",
      "DataFlow(5<-22<-51)\n",
      "DataFlow(5<-34<-126)\n",
      "DataFlow(5<-23<-91)\n",
      "DataFlow(5<-63<-234)\n",
      "DataFlow(5<-21<-53)\n",
      "DataFlow(5<-20<-70)\n",
      "DataFlow(5<-26<-115)\n",
      "DataFlow(5<-29<-107)\n",
      "DataFlow(5<-20<-51)\n",
      "DataFlow(5<-26<-109)\n"
     ]
    }
   ],
   "source": [
    "for subset in loader(data.train_mask):\n",
    "    print(subset)"
   ]
  },
  {
   "cell_type": "code",
   "execution_count": 21,
   "metadata": {},
   "outputs": [],
   "source": [
    "block = subset[0]"
   ]
  },
  {
   "cell_type": "code",
   "execution_count": 33,
   "metadata": {},
   "outputs": [
    {
     "data": {
      "text/plain": [
       "tensor([ 115,  314,  660, 1783, 1771,  542, 1924, 1602,  572,  417, 1008, 1925,\n",
       "        1546, 1152, 1856,  280,  544, 1923, 1535,  749, 1203, 1769, 1572, 2046,\n",
       "         108, 2078,  305, 2051,  485,    6, 2055, 2198,  452,  573, 1042, 1830,\n",
       "        1802, 1705, 1926,  153, 1791, 1118,  133, 1517,  138, 1787, 1013, 1583,\n",
       "        1922,  176,  236,  630, 1045,  454, 1775, 2169, 1125, 2419,  252, 1416,\n",
       "         834,  277,  683, 1768,  586,  131, 2168,  399, 2079,  109,  306, 2052,\n",
       "         656,   65, 2199,  993,  384, 2157, 1777, 1580, 1072, 2045, 1848, 1647,\n",
       "         456, 1835, 2209, 1224,  497,   74,  139, 1623,   94, 1504, 1142, 1551,\n",
       "        2153, 2347, 2159, 1547,  539, 1218, 2158, 2160,  603,  973, 2155,  876,\n",
       "         126])"
      ]
     },
     "execution_count": 33,
     "metadata": {},
     "output_type": "execute_result"
    }
   ],
   "source": [
    "block.n_id"
   ]
  },
  {
   "cell_type": "code",
   "execution_count": 17,
   "metadata": {},
   "outputs": [
    {
     "data": {
      "text/plain": [
       "<generator object NeighborSampler.__call__ at 0x110e19350>"
      ]
     },
     "execution_count": 17,
     "metadata": {},
     "output_type": "execute_result"
    }
   ],
   "source": [
    "loader(data.train_mask)"
   ]
  },
  {
   "cell_type": "code",
   "execution_count": 37,
   "metadata": {},
   "outputs": [],
   "source": [
    "block = subset[1]"
   ]
  },
  {
   "cell_type": "code",
   "execution_count": 38,
   "metadata": {},
   "outputs": [
    {
     "data": {
      "text/plain": [
       "Block(n_id=[26], res_n_id=[5], e_id=None, edge_index=[2, 26], size=[2])"
      ]
     },
     "execution_count": 38,
     "metadata": {},
     "output_type": "execute_result"
    }
   ],
   "source": [
    "block"
   ]
  },
  {
   "cell_type": "code",
   "execution_count": 39,
   "metadata": {},
   "outputs": [
    {
     "data": {
      "text/plain": [
       "tensor([[25, 16, 17, 19, 21,  2,  6, 18, 13, 23, 22, 24, 10,  8,  7, 15, 11,  4,\n",
       "          3, 20, 14,  5,  9,  1,  0, 12],\n",
       "        [ 0,  0,  0,  0,  0,  0,  1,  1,  1,  1,  1,  1,  1,  1,  1,  2,  3,  3,\n",
       "          3,  4,  4,  0,  1,  2,  3,  4]])"
      ]
     },
     "execution_count": 39,
     "metadata": {},
     "output_type": "execute_result"
    }
   ],
   "source": [
    "block.edge_index"
   ]
  },
  {
   "cell_type": "code",
   "execution_count": 35,
   "metadata": {},
   "outputs": [
    {
     "data": {
      "text/plain": [
       "'DataFlow(3 <- 2)'"
      ]
     },
     "execution_count": 35,
     "metadata": {},
     "output_type": "execute_result"
    }
   ],
   "source": [
    "(\"DataFlow({}\".format(\"{} <- \"*(1)) + \"{})\").format(*[len(obj) for obj in [[2,3,4],[2,3]]])"
   ]
  },
  {
   "cell_type": "code",
   "execution_count": 29,
   "metadata": {},
   "outputs": [
    {
     "ename": "IndexError",
     "evalue": "tuple index out of range",
     "output_type": "error",
     "traceback": [
      "\u001b[0;31m---------------------------------------------------------------------------\u001b[0m",
      "\u001b[0;31mIndexError\u001b[0m                                Traceback (most recent call last)",
      "\u001b[0;32m<ipython-input-29-3dbe810188b6>\u001b[0m in \u001b[0;36m<module>\u001b[0;34m\u001b[0m\n\u001b[0;32m----> 1\u001b[0;31m \u001b[0;34m[\u001b[0m\u001b[0mtemp\u001b[0m\u001b[0;34m.\u001b[0m\u001b[0mformat\u001b[0m\u001b[0;34m(\u001b[0m\u001b[0ma\u001b[0m\u001b[0;34m)\u001b[0m \u001b[0;32mfor\u001b[0m \u001b[0ma\u001b[0m \u001b[0;32min\u001b[0m \u001b[0;34m[\u001b[0m\u001b[0;36m2\u001b[0m\u001b[0;34m,\u001b[0m\u001b[0;36m3\u001b[0m\u001b[0;34m]\u001b[0m\u001b[0;34m]\u001b[0m\u001b[0;34m\u001b[0m\u001b[0;34m\u001b[0m\u001b[0m\n\u001b[0m",
      "\u001b[0;32m<ipython-input-29-3dbe810188b6>\u001b[0m in \u001b[0;36m<listcomp>\u001b[0;34m(.0)\u001b[0m\n\u001b[0;32m----> 1\u001b[0;31m \u001b[0;34m[\u001b[0m\u001b[0mtemp\u001b[0m\u001b[0;34m.\u001b[0m\u001b[0mformat\u001b[0m\u001b[0;34m(\u001b[0m\u001b[0ma\u001b[0m\u001b[0;34m)\u001b[0m \u001b[0;32mfor\u001b[0m \u001b[0ma\u001b[0m \u001b[0;32min\u001b[0m \u001b[0;34m[\u001b[0m\u001b[0;36m2\u001b[0m\u001b[0;34m,\u001b[0m\u001b[0;36m3\u001b[0m\u001b[0;34m]\u001b[0m\u001b[0;34m]\u001b[0m\u001b[0;34m\u001b[0m\u001b[0;34m\u001b[0m\u001b[0m\n\u001b[0m",
      "\u001b[0;31mIndexError\u001b[0m: tuple index out of range"
     ]
    }
   ],
   "source": [
    "temp.format(a) for a in [2,3]"
   ]
  },
  {
   "cell_type": "code",
   "execution_count": 18,
   "metadata": {},
   "outputs": [],
   "source": [
    "t = (len(obj) for obj in [[2,3,4],[2,3]])"
   ]
  },
  {
   "cell_type": "code",
   "execution_count": 23,
   "metadata": {},
   "outputs": [
    {
     "ename": "SyntaxError",
     "evalue": "invalid syntax (<ipython-input-23-bae49ad0f9b5>, line 1)",
     "output_type": "error",
     "traceback": [
      "\u001b[0;36m  File \u001b[0;32m\"<ipython-input-23-bae49ad0f9b5>\"\u001b[0;36m, line \u001b[0;32m1\u001b[0m\n\u001b[0;31m    b = lambda x: for obj in x len(x)\u001b[0m\n\u001b[0m                    ^\u001b[0m\n\u001b[0;31mSyntaxError\u001b[0m\u001b[0;31m:\u001b[0m invalid syntax\n"
     ]
    }
   ],
   "source": []
  },
  {
   "cell_type": "code",
   "execution_count": 22,
   "metadata": {},
   "outputs": [
    {
     "ename": "TypeError",
     "evalue": "<lambda>() takes 1 positional argument but 2 were given",
     "output_type": "error",
     "traceback": [
      "\u001b[0;31m---------------------------------------------------------------------------\u001b[0m",
      "\u001b[0;31mTypeError\u001b[0m                                 Traceback (most recent call last)",
      "\u001b[0;32m<ipython-input-22-76aff2bb7e50>\u001b[0m in \u001b[0;36m<module>\u001b[0;34m\u001b[0m\n\u001b[0;32m----> 1\u001b[0;31m \u001b[0mb\u001b[0m\u001b[0;34m(\u001b[0m\u001b[0;36m5\u001b[0m\u001b[0;34m,\u001b[0m\u001b[0;36m6\u001b[0m\u001b[0;34m)\u001b[0m\u001b[0;34m\u001b[0m\u001b[0;34m\u001b[0m\u001b[0m\n\u001b[0m",
      "\u001b[0;31mTypeError\u001b[0m: <lambda>() takes 1 positional argument but 2 were given"
     ]
    }
   ],
   "source": [
    "b(5,6)"
   ]
  },
  {
   "cell_type": "code",
   "execution_count": 5,
   "metadata": {},
   "outputs": [
    {
     "ename": "IndexError",
     "evalue": "tuple index out of range",
     "output_type": "error",
     "traceback": [
      "\u001b[0;31m---------------------------------------------------------------------------\u001b[0m",
      "\u001b[0;31mIndexError\u001b[0m                                Traceback (most recent call last)",
      "\u001b[0;32m<ipython-input-5-f8f61815b0c0>\u001b[0m in \u001b[0;36m<module>\u001b[0;34m\u001b[0m\n\u001b[0;32m----> 1\u001b[0;31m \u001b[0;34m(\u001b[0m\u001b[0;34m\"DataFlow({}\"\u001b[0m\u001b[0;34m.\u001b[0m\u001b[0mformat\u001b[0m\u001b[0;34m(\u001b[0m\u001b[0;34m\"{} <- \"\u001b[0m\u001b[0;34m*\u001b[0m\u001b[0;34m(\u001b[0m\u001b[0;36m2\u001b[0m\u001b[0;34m-\u001b[0m\u001b[0;36m1\u001b[0m\u001b[0;34m)\u001b[0m\u001b[0;34m)\u001b[0m \u001b[0;34m+\u001b[0m \u001b[0;34m\"{})\"\u001b[0m\u001b[0;34m)\u001b[0m\u001b[0;34m.\u001b[0m\u001b[0mformat\u001b[0m\u001b[0;34m(\u001b[0m\u001b[0;34m*\u001b[0m\u001b[0;34m[\u001b[0m\u001b[0;36m2\u001b[0m\u001b[0;34m]\u001b[0m\u001b[0;34m)\u001b[0m\u001b[0;34m\u001b[0m\u001b[0;34m\u001b[0m\u001b[0m\n\u001b[0m",
      "\u001b[0;31mIndexError\u001b[0m: tuple index out of range"
     ]
    }
   ],
   "source": [
    "(\"DataFlow({}\".format(\"{} <- \"*(2-1)) + \"{})\").format(*[2])"
   ]
  },
  {
   "cell_type": "code",
   "execution_count": 6,
   "metadata": {},
   "outputs": [],
   "source": [
    "t = ([]).append(5)"
   ]
  },
  {
   "cell_type": "code",
   "execution_count": 7,
   "metadata": {},
   "outputs": [],
   "source": [
    "t"
   ]
  },
  {
   "cell_type": "code",
   "execution_count": 8,
   "metadata": {},
   "outputs": [],
   "source": [
    "t = []"
   ]
  },
  {
   "cell_type": "code",
   "execution_count": 9,
   "metadata": {},
   "outputs": [],
   "source": [
    "t.append(5)"
   ]
  },
  {
   "cell_type": "code",
   "execution_count": 10,
   "metadata": {},
   "outputs": [
    {
     "data": {
      "text/plain": [
       "[5]"
      ]
     },
     "execution_count": 10,
     "metadata": {},
     "output_type": "execute_result"
    }
   ],
   "source": [
    "t"
   ]
  },
  {
   "cell_type": "code",
   "execution_count": 7,
   "metadata": {},
   "outputs": [
    {
     "data": {
      "text/plain": [
       "'DataFlow({} <- {} <- {} <- {})'"
      ]
     },
     "execution_count": 7,
     "metadata": {},
     "output_type": "execute_result"
    }
   ],
   "source": [
    "\"DataFlow({}\".format(\"{} <- \"*(3)) + \"{})\""
   ]
  },
  {
   "cell_type": "code",
   "execution_count": null,
   "metadata": {},
   "outputs": [],
   "source": []
  }
 ],
 "metadata": {
  "kernelspec": {
   "display_name": "Python 3",
   "language": "python",
   "name": "python3"
  },
  "language_info": {
   "codemirror_mode": {
    "name": "ipython",
    "version": 3
   },
   "file_extension": ".py",
   "mimetype": "text/x-python",
   "name": "python",
   "nbconvert_exporter": "python",
   "pygments_lexer": "ipython3",
   "version": "3.7.6"
  }
 },
 "nbformat": 4,
 "nbformat_minor": 4
}
