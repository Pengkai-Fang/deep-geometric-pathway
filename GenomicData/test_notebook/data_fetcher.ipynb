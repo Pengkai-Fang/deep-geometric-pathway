{
 "cells": [
  {
   "cell_type": "code",
   "execution_count": 1,
   "metadata": {},
   "outputs": [],
   "source": [
    "import pandas as pd\n",
    "import numpy as np\n",
    "from sklearn import preprocessing\n",
    "import sys"
   ]
  },
  {
   "cell_type": "code",
   "execution_count": 2,
   "metadata": {},
   "outputs": [],
   "source": [
    "# The test hyper-parameter, default is argv_list = []\n",
    "argv_list = ['complex', 'abstract']\n",
    "#argv_list = []"
   ]
  },
  {
   "cell_type": "code",
   "execution_count": 3,
   "metadata": {},
   "outputs": [],
   "source": [
    "# load the data from text\n",
    "data_total = pd.read_csv('../Gene_DATA/sourcePathway.txt')\n",
    "\n",
    "# extract the info based on regex\n",
    "Namelist = data_total['TXT'].str.extract(r'^(?P<GenomeType>[a-z]+)\\s(?P<GenomeName>[\\w\\/\\-()+]+)$').dropna(axis=0).reset_index(drop=True)\n",
    "Edgelist = data_total['TXT'].str.extract(r'^(?P<edgeStart>[\\w\\/\\-()+]+)\\s(?P<edgeEnd>[\\w\\/\\-()+]+)\\s(?P<edgeType>[\\w\\>\\|-]+)$').dropna(axis=0).reset_index(drop=True)"
   ]
  },
  {
   "cell_type": "code",
   "execution_count": 4,
   "metadata": {},
   "outputs": [],
   "source": [
    "if len(argv_list):\n",
    "    # Here we started to choose to discard some features/node types \n",
    "    le = preprocessing.LabelEncoder()\n",
    "    le.fit(Namelist['GenomeType'])\n",
    "    all_node_class = list(le.classes_)\n",
    "\n",
    "    # Input error check\n",
    "    for elem in argv_list:\n",
    "        if elem not in all_node_class:\n",
    "            raise NameError('The input argument {} is not defined in node class.'.format(elem))\n",
    "            sys.exit()\n",
    "\n",
    "    # Start to exclude the node type\n",
    "    Namelist = Namelist[~Namelist['GenomeType'].isin(argv_list)].reset_index(drop=True)"
   ]
  },
  {
   "cell_type": "code",
   "execution_count": 5,
   "metadata": {},
   "outputs": [],
   "source": [
    "# The beforehand check\n",
    "# Here we check the edge that does not showup in node list and drop these edges\n",
    "Namelist_l = list(Namelist['GenomeName'])\n",
    "Edgelist_l = list(Edgelist.iloc[:,0].values)\n",
    "Edgelist_ll = list(Edgelist.iloc[:,1].values)\n",
    "exclude_list = []\n",
    "for idx, (elem, elem2) in enumerate(zip(Edgelist_l, Edgelist_ll)):\n",
    "        if ((elem not in Namelist_l) or (elem2 not in Namelist_l)):\n",
    "            exclude_list.append(idx)\n",
    "\n",
    "Edgelist = Edgelist.drop(exclude_list).reset_index(drop=True)"
   ]
  },
  {
   "cell_type": "code",
   "execution_count": 6,
   "metadata": {},
   "outputs": [],
   "source": [
    "# Label the index of each edge\n",
    "# Make Edgelist --> edge_index\n",
    "\n",
    "# Label edge_index\n",
    "le = preprocessing.LabelEncoder()\n",
    "le.fit(Namelist['GenomeName'])\n",
    "edge_index = le.transform(Edgelist.iloc[:,:2].values.reshape(-1)).reshape(-1,2)\n",
    "\n",
    "# Label edge_class\n",
    "le = preprocessing.LabelEncoder()\n",
    "le.fit(Edgelist['edgeType'])\n",
    "edge_class = le.transform(Edgelist['edgeType'])\n",
    "\n",
    "# Label node class\n",
    "le = preprocessing.LabelEncoder()\n",
    "le.fit(Namelist['GenomeType'])\n",
    "node_class = le.transform(Namelist['GenomeType'])\n",
    "\n",
    "# The combination of node info\n",
    "node_all = np.concatenate([Namelist['GenomeName'].values.reshape(-1,1), node_class.reshape(-1,1)], axis=1)"
   ]
  },
  {
   "cell_type": "code",
   "execution_count": 9,
   "metadata": {},
   "outputs": [
    {
     "data": {
      "text/plain": [
       "array([['1/2-SBSRNA4', 1],\n",
       "       ['AADAT', 1],\n",
       "       ['AAGAB', 1],\n",
       "       ...,\n",
       "       ['PTRF', 1],\n",
       "       ['NFIX', 1],\n",
       "       ['SELP', 1]], dtype=object)"
      ]
     },
     "execution_count": 9,
     "metadata": {},
     "output_type": "execute_result"
    }
   ],
   "source": [
    "node_all"
   ]
  },
  {
   "cell_type": "code",
   "execution_count": null,
   "metadata": {},
   "outputs": [],
   "source": []
  }
 ],
 "metadata": {
  "kernelspec": {
   "display_name": "Python 3",
   "language": "python",
   "name": "python3"
  },
  "language_info": {
   "codemirror_mode": {
    "name": "ipython",
    "version": 3
   },
   "file_extension": ".py",
   "mimetype": "text/x-python",
   "name": "python",
   "nbconvert_exporter": "python",
   "pygments_lexer": "ipython3",
   "version": "3.7.6"
  }
 },
 "nbformat": 4,
 "nbformat_minor": 4
}
