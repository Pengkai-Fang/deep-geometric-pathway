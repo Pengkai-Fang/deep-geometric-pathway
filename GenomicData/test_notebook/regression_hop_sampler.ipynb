{
 "cells": [
  {
   "cell_type": "code",
   "execution_count": 1,
   "metadata": {},
   "outputs": [],
   "source": [
    "import pandas as pd\n",
    "import utils.hops_sampler as hops_sampler\n",
    "import numpy as np\n",
    "from sklearn.preprocessing import LabelEncoder\n",
    "from torch_geometric.data import Data\n",
    "import utils.hops_sampler as hops_sampler\n",
    "import utils.cancer_data as pathway\n",
    "import utils.regression_hops_sampler as regression_sampler_hop\n",
    "import torch"
   ]
  },
  {
   "cell_type": "code",
   "execution_count": 2,
   "metadata": {},
   "outputs": [],
   "source": [
    "# Load both data and operate by class pathway\n",
    "pathwayPATH = './Gene_DATA/sourcePathway.txt'\n",
    "cancerPATH = './BreastCancer/Data_RNASeq2.mat'\n",
    "\n",
    "data = pathway(pthwayPATH=pathwayPATH, cancerPATH=cancerPATH)"
   ]
  },
  {
   "cell_type": "code",
   "execution_count": 3,
   "metadata": {},
   "outputs": [],
   "source": [
    "regression_samplesLoader = regression_sampler_hop(pathway=data, \n",
    "                                                 num_hops=2)"
   ]
  },
  {
   "cell_type": "code",
   "execution_count": 4,
   "metadata": {},
   "outputs": [],
   "source": [
    "samples = regression_samplesLoader.regression_samples[0]"
   ]
  },
  {
   "cell_type": "code",
   "execution_count": null,
   "metadata": {},
   "outputs": [],
   "source": []
  }
 ],
 "metadata": {
  "kernelspec": {
   "display_name": "Python 3",
   "language": "python",
   "name": "python3"
  },
  "language_info": {
   "codemirror_mode": {
    "name": "ipython",
    "version": 3
   },
   "file_extension": ".py",
   "mimetype": "text/x-python",
   "name": "python",
   "nbconvert_exporter": "python",
   "pygments_lexer": "ipython3",
   "version": "3.7.6"
  }
 },
 "nbformat": 4,
 "nbformat_minor": 4
}
