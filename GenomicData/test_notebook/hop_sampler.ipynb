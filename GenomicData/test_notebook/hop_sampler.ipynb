{
 "cells": [
  {
   "cell_type": "code",
   "execution_count": 1,
   "metadata": {},
   "outputs": [],
   "source": [
    "import torch\n",
    "import numpy as np\n",
    "import pandas as pd\n",
    "import utils.cancer_data as pathway\n",
    "from torch_geometric.data import Data\n",
    "from sklearn.preprocessing import LabelEncoder"
   ]
  },
  {
   "cell_type": "code",
   "execution_count": 2,
   "metadata": {},
   "outputs": [],
   "source": [
    "# Load both data and operate by class pathway\n",
    "pathwayPATH = './Gene_DATA/sourcePathway.txt'\n",
    "cancerPATH = './BreastCancer/Data_RNASeq2.mat'\n",
    "\n",
    "data = pathway(pthwayPATH=pathwayPATH, cancerPATH=cancerPATH)"
   ]
  },
  {
   "cell_type": "code",
   "execution_count": 3,
   "metadata": {},
   "outputs": [],
   "source": [
    "# Create deep_geometric data object\n",
    "x = np.concatenate([data.activ_free, data.activ_cancer],\n",
    "                   axis = 1)\n",
    "x = torch.from_numpy(x)\n",
    "edge_index = torch.from_numpy(data.edge_index.T)\n",
    "\n",
    "pathway_data = Data(x = x.unsqueeze(-1),\n",
    "                   edge_index = edge_index)\n",
    "pathway_data.protein_id = torch.from_numpy(data.remained_protein_id)"
   ]
  },
  {
   "cell_type": "code",
   "execution_count": 6,
   "metadata": {},
   "outputs": [],
   "source": [
    "# the remained id that does have at least one hop\n",
    "# Based on computation, we only have 1435 protein nodes satisfy the requirement\n",
    "least_size = 5\n",
    "save_ids = []\n",
    "edge_index = pathway_data.edge_index.numpy()\n",
    "node_i, node_j = edge_index\n",
    "for elem in pathway_data.protein_id.numpy():\n",
    "    level_node = node_i[np.in1d(node_j, elem)]\n",
    "    level_node = np.setdiff1d(level_node, elem)\n",
    "    save_ids.append(elem) if level_node.size > least_size  else save_ids"
   ]
  },
  {
   "cell_type": "code",
   "execution_count": 7,
   "metadata": {},
   "outputs": [],
   "source": [
    "num_hops = 2\n",
    "batch_size = 3\n",
    "# Start from here is the test of sub-sampling linkage based on num of hops\n",
    "# First, split the started node into desgined batch_size\n",
    "batch_splits = torch.split(torch.tensor(save_ids), batch_size)"
   ]
  },
  {
   "cell_type": "code",
   "execution_count": 14,
   "metadata": {},
   "outputs": [],
   "source": [
    "# function that find all parent hops\n",
    "batched_node_list = []\n",
    "for batch in batch_splits:\n",
    "    # the ids i want to keep in further sub-sampling part\n",
    "    this_batch_ids = batch.numpy()\n",
    "    for num in range(num_hops):\n",
    "        this_batch_ids = np.hstack([this_batch_ids, node_i[np.in1d(node_j, this_batch_ids)]])\n",
    "    batched_node_list.append(np.unique(this_batch_ids))"
   ]
  },
  {
   "cell_type": "code",
   "execution_count": 15,
   "metadata": {},
   "outputs": [
    {
     "data": {
      "text/plain": [
       "LabelEncoder()"
      ]
     },
     "execution_count": 15,
     "metadata": {},
     "output_type": "execute_result"
    }
   ],
   "source": [
    "# From here, extract the remained graph based on batached_node_id-list\n",
    "le = LabelEncoder()\n",
    "le.fit(data.remained_protein)"
   ]
  },
  {
   "cell_type": "code",
   "execution_count": 16,
   "metadata": {},
   "outputs": [],
   "source": [
    "\n",
    "def sampler_generater(batch, le):\n",
    "    \"\"\"\n",
    "    This function passes batch index number to obtained trained object\n",
    "    \"\"\"\n",
    "    deep_pthway = Data()\n",
    "    newpthway_Namelist = data.pthway_NameList.iloc[batch,:].reset_index(drop=True)\n",
    "    deep_pthway.genome_Namelist = newpthway_Namelist[newpthway_Namelist['GenomeType'] == 'protein']['GenomeName'].values\n",
    "    activ_id = le.transform(deep_pthway.genome_Namelist)\n",
    "    deep_pthway.activ_free = data.activ_free[activ_id]\n",
    "    deep_pthway.activ_cancer = data.activ_cancer[activ_id]\n",
    "\n",
    "    deep_pthway.pth_Namelist = newpthway_Namelist\n",
    "    Edgelist = data.Edgelist\n",
    "    Namelist_l = list(newpthway_Namelist['GenomeName'].values)\n",
    "    Edgelist_l = list(Edgelist.iloc[:,0].values)\n",
    "    Edgelist_ll = list(Edgelist.iloc[:,1].values)\n",
    "    exclude_list = []\n",
    "    for idx, (elem, elem2) in enumerate(zip(Edgelist_l, Edgelist_ll)):\n",
    "        if ((elem not in Namelist_l) or (elem2 not in Namelist_l)):\n",
    "            exclude_list.append(idx)\n",
    "\n",
    "    newpthway_Edgelist = Edgelist.drop(exclude_list).reset_index(drop=True)\n",
    "    deep_pthway.Edgelist = newpthway_Edgelist\n",
    "\n",
    "    le2 = LabelEncoder()\n",
    "    le2.fit(deep_pthway.pth_Namelist['GenomeName'].values)\n",
    "    deep_pthway.edge_index = le2.transform(deep_pthway.Edgelist.iloc[:,:2].values.reshape(-1)).reshape(-1,2)\n",
    "    deep_pthway.all_elem_className = list(le2.classes_)\n",
    "\n",
    "    # Label edge_class\n",
    "    le2 = LabelEncoder()\n",
    "    le2.fit(deep_pthway.Edgelist['edgeType'])\n",
    "    deep_pthway.edge_class = le2.transform(deep_pthway.Edgelist['edgeType'])\n",
    "    deep_pthway.edge_className = list(le2.classes_)\n",
    "\n",
    "    # Label node class\n",
    "    le2 = LabelEncoder()\n",
    "    le2.fit(deep_pthway.pth_Namelist['GenomeType'])\n",
    "    deep_pthway.node_class = le2.transform(deep_pthway.pth_Namelist['GenomeType'])\n",
    "    deep_pthway.node_className = list(le2.classes_) "
   ]
  },
  {
   "cell_type": "code",
   "execution_count": null,
   "metadata": {},
   "outputs": [],
   "source": []
  }
 ],
 "metadata": {
  "kernelspec": {
   "display_name": "Python 3",
   "language": "python",
   "name": "python3"
  },
  "language_info": {
   "codemirror_mode": {
    "name": "ipython",
    "version": 3
   },
   "file_extension": ".py",
   "mimetype": "text/x-python",
   "name": "python",
   "nbconvert_exporter": "python",
   "pygments_lexer": "ipython3",
   "version": "3.7.6"
  }
 },
 "nbformat": 4,
 "nbformat_minor": 4
}
