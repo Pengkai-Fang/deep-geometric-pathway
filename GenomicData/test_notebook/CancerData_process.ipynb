{
 "cells": [
  {
   "cell_type": "markdown",
   "metadata": {},
   "source": [
    "### Some Note\n",
    "\n",
    "`./BreastCancer/Data_RNASeq2.mat` is the information datset as `mat` format\n",
    "\n",
    "- `geneRNASeq2RawMatrix0/1` is for activity level info\n",
    "\n",
    "- `gNamePureListRNASeq2` show the Genomic name"
   ]
  },
  {
   "cell_type": "code",
   "execution_count": 1,
   "metadata": {},
   "outputs": [],
   "source": [
    "import scipy.io as sio\n",
    "import numpy as np\n",
    "import pandas as pd\n",
    "from sklearn.preprocessing import LabelEncoder\n",
    "from utils.data_fetch import data_fetch"
   ]
  },
  {
   "cell_type": "code",
   "execution_count": 2,
   "metadata": {},
   "outputs": [],
   "source": [
    "raw_data = sio.loadmat('./BreastCancer/Data_RNASeq2.mat')\n",
    "pthway = data_fetch(filepath='./Gene_DATA/sourcePathway.txt')"
   ]
  },
  {
   "cell_type": "code",
   "execution_count": 3,
   "metadata": {},
   "outputs": [],
   "source": [
    "namelist_free = raw_data['SampleList0']\n",
    "namelist_cancer = raw_data['SampleList1']\n",
    "geneNamelist = raw_data['gNamePureListRNASeq2'][0]\n",
    "activ_free = raw_data['geneRNASeq2RawMatrix0']\n",
    "activ_cancer = raw_data['geneRNASeq2RawMatrix1']\n",
    "\n",
    "protein_list = pthway.Namelist\n",
    "\n",
    "if 'protein' not in pthway.node_className:\n",
    "    raise NameError('The pathway data does not include the protein info')\n",
    "\n",
    "# Obtained the data that only inside of protein_list    \n",
    "protein_list = protein_list[protein_list['GenomeType'] == 'protein']['GenomeName'].values\n",
    "geneNamelist = [np.array2string(geneNamelist[i]).replace(\"['\",'').replace(\"']\",'') for i in range(geneNamelist.size)]\n",
    "geneNamelist = np.array(geneNamelist).astype(np.object)\n",
    "\n",
    "included_gene = np.in1d(geneNamelist, protein_list)\n",
    "\n",
    "# Get two input data in the end, \n",
    "# TODO reshuffle required \n",
    "activ_free = activ_free[included_gene]\n",
    "activ_cancer = activ_cancer[included_gene]"
   ]
  },
  {
   "cell_type": "code",
   "execution_count": 4,
   "metadata": {},
   "outputs": [],
   "source": [
    "# Here we get the new genenNamelist that only include the contained protein name\n",
    "geneNamelist = geneNamelist[included_gene]\n",
    "\n",
    "included_protein = np.in1d(protein_list, geneNamelist)\n",
    "\n",
    "remained_protein = protein_list[included_protein]\n",
    "otherpth_list = pthway.Namelist[pthway.Namelist['GenomeType'] != 'protein']['GenomeName'].values\n",
    "remained_protein_all = np.concatenate([remained_protein, otherpth_list])"
   ]
  },
  {
   "cell_type": "code",
   "execution_count": 5,
   "metadata": {},
   "outputs": [],
   "source": [
    "# save the temporary edgelist\n",
    "Edgelist = pthway.Edgelist\n",
    "Namelist_l = list(remained_protein_all)\n",
    "Edgelist_l = list(Edgelist.iloc[:,0].values)\n",
    "Edgelist_ll = list(Edgelist.iloc[:,1].values)\n",
    "exclude_list = []\n",
    "for idx, (elem, elem2) in enumerate(zip(Edgelist_l, Edgelist_ll)):\n",
    "    if ((elem not in Namelist_l) or (elem2 not in Namelist_l)):\n",
    "        exclude_list.append(idx)\n",
    "\n",
    "Edgelist = Edgelist.drop(exclude_list).reset_index(drop=True)"
   ]
  },
  {
   "cell_type": "code",
   "execution_count": 6,
   "metadata": {},
   "outputs": [],
   "source": [
    "# shuffle the data to be the same order of both protein and genome\n",
    "tracked_index = np.argsort(geneNamelist)\n",
    "sorted_geneNamelist = geneNamelist[tracked_index]\n",
    "activ_free = activ_free[tracked_index]\n",
    "activ_cancer = activ_cancer[tracked_index]"
   ]
  },
  {
   "cell_type": "code",
   "execution_count": 7,
   "metadata": {},
   "outputs": [],
   "source": [
    "remained_protein = np.sort(remained_protein)"
   ]
  },
  {
   "cell_type": "code",
   "execution_count": 34,
   "metadata": {},
   "outputs": [],
   "source": [
    "protein_df = pd.DataFrame({'GenomeType': 'protein',\n",
    "             'GenomeName': remained_protein})\n",
    "overall_df = pd.concat([protein_df, pthway.Namelist[pthway.Namelist['GenomeType'] != 'protein']],\n",
    "                      axis=0,ignore_index=True)"
   ]
  },
  {
   "cell_type": "code",
   "execution_count": 35,
   "metadata": {},
   "outputs": [],
   "source": [
    "# Start to index label\n",
    "overall_df = overall_df.sort_values(by='GenomeName').reset_index(drop=True)\n",
    "overall_df = overall_df[~overall_df.duplicated()]\n",
    "le = LabelEncoder()\n",
    "le.fit(overall_df['GenomeName'].values)\n",
    "le.classes_.sort()\n",
    "edge_index = le.transform(Edgelist.iloc[:,:2].values.reshape(-1)).reshape(-1,2)\n",
    "all_elem_className = list(le.classes_)\n"
   ]
  },
  {
   "cell_type": "code",
   "execution_count": 13,
   "metadata": {},
   "outputs": [],
   "source": [
    "# Label edge_class\n",
    "le = LabelEncoder()\n",
    "le.fit(Edgelist['edgeType'])\n",
    "edge_class = le.transform(Edgelist['edgeType'])\n",
    "edge_className = list(le.classes_)\n",
    "\n",
    "# Label node class\n",
    "le = LabelEncoder()\n",
    "le.fit(overall_df['GenomeType'])\n",
    "node_class = le.transform(overall_df['GenomeType'])\n",
    "node_className = list(le.classes_)        "
   ]
  },
  {
   "cell_type": "code",
   "execution_count": null,
   "metadata": {},
   "outputs": [],
   "source": []
  }
 ],
 "metadata": {
  "kernelspec": {
   "display_name": "Python 3",
   "language": "python",
   "name": "python3"
  },
  "language_info": {
   "codemirror_mode": {
    "name": "ipython",
    "version": 3
   },
   "file_extension": ".py",
   "mimetype": "text/x-python",
   "name": "python",
   "nbconvert_exporter": "python",
   "pygments_lexer": "ipython3",
   "version": "3.7.6"
  }
 },
 "nbformat": 4,
 "nbformat_minor": 4
}
